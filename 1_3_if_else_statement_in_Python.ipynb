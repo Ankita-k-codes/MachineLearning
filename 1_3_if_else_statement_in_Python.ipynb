{
  "nbformat": 4,
  "nbformat_minor": 0,
  "metadata": {
    "colab": {
      "provenance": [],
      "authorship_tag": "ABX9TyNPt8Lk+hMVBEEPE/0Mmju7",
      "include_colab_link": true
    },
    "kernelspec": {
      "name": "python3",
      "display_name": "Python 3"
    },
    "language_info": {
      "name": "python"
    }
  },
  "cells": [
    {
      "cell_type": "markdown",
      "metadata": {
        "id": "view-in-github",
        "colab_type": "text"
      },
      "source": [
        "<a href=\"https://colab.research.google.com/github/guptaankitaa/MachineLearning/blob/main/1_3_if_else_statement_in_Python.ipynb\" target=\"_parent\"><img src=\"https://colab.research.google.com/assets/colab-badge.svg\" alt=\"Open In Colab\"/></a>"
      ]
    },
    {
      "cell_type": "markdown",
      "source": [
        "simple if else statement"
      ],
      "metadata": {
        "id": "BEBzI-xxbKGT"
      }
    },
    {
      "cell_type": "code",
      "source": [
        "a = 30\n",
        "b = 50\n",
        "\n",
        "if (a>b):\n",
        "  print('a is the greatest number')\n",
        "else:\n",
        "  print('b is the greatest number')"
      ],
      "metadata": {
        "colab": {
          "base_uri": "https://localhost:8080/"
        },
        "id": "NYozjI_0bMg-",
        "outputId": "3ee7da34-380e-4a92-f34d-41fdd8038217"
      },
      "execution_count": 1,
      "outputs": [
        {
          "output_type": "stream",
          "name": "stdout",
          "text": [
            "b is the greatest number\n"
          ]
        }
      ]
    },
    {
      "cell_type": "code",
      "source": [
        "\n",
        "a = int(input('Enter the first number : '))\n",
        "b = int(input('Enter the second number : '))\n",
        "\n",
        "if (a>b):\n",
        "  print('First number is the greatest')\n",
        "else:\n",
        "  print('Second number is the greatest')\n",
        ""
      ],
      "metadata": {
        "colab": {
          "base_uri": "https://localhost:8080/"
        },
        "id": "qBTWUnzQbPVj",
        "outputId": "7aa5fb60-e73d-408f-9827-5b86d8cf70bc"
      },
      "execution_count": 2,
      "outputs": [
        {
          "output_type": "stream",
          "name": "stdout",
          "text": [
            "Enter the first number : 16\n",
            "Enter the second number : 20\n",
            "Second number is the greatest\n"
          ]
        }
      ]
    },
    {
      "cell_type": "code",
      "source": [
        "\n",
        "a = 20\n",
        "b = 40\n",
        "c = 60\n",
        "\n",
        "if (a>b):\n",
        "  if (a>c):\n",
        "    print('a is the greatest number')\n",
        "  else:\n",
        "    print('c is the greatest number')\n",
        "else:\n",
        "  if (b>c):\n",
        "    print('b is the greatest number')\n",
        "  else:\n",
        "    print('c is the greatest number')\n",
        ""
      ],
      "metadata": {
        "colab": {
          "base_uri": "https://localhost:8080/"
        },
        "id": "SVVTcvpabSFP",
        "outputId": "6da221e0-fe54-46cb-9452-1a7bfa11ad20"
      },
      "execution_count": 4,
      "outputs": [
        {
          "output_type": "stream",
          "name": "stdout",
          "text": [
            "c is the greatest number\n"
          ]
        }
      ]
    },
    {
      "cell_type": "code",
      "source": [],
      "metadata": {
        "id": "uhQ1UydVbeFB"
      },
      "execution_count": null,
      "outputs": []
    }
  ]
}