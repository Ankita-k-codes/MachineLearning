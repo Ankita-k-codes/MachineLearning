{
  "nbformat": 4,
  "nbformat_minor": 0,
  "metadata": {
    "colab": {
      "provenance": [],
      "authorship_tag": "ABX9TyNFlDSEq0tPCUOT2w3iuiwu",
      "include_colab_link": true
    },
    "kernelspec": {
      "name": "python3",
      "display_name": "Python 3"
    },
    "language_info": {
      "name": "python"
    }
  },
  "cells": [
    {
      "cell_type": "markdown",
      "metadata": {
        "id": "view-in-github",
        "colab_type": "text"
      },
      "source": [
        "<a href=\"https://colab.research.google.com/github/guptaankitaa/MachineLearning/blob/main/1_2_Operators_in_Python.ipynb\" target=\"_parent\"><img src=\"https://colab.research.google.com/assets/colab-badge.svg\" alt=\"Open In Colab\"/></a>"
      ]
    },
    {
      "cell_type": "markdown",
      "source": [
        "Operators in Python:\n",
        "\n",
        "Arithmetic Operators\n",
        "Assignment Operators\n",
        "Comparison Operators\n",
        "Logical Operators\n",
        "Identity Operators\n",
        "Membership Operators\n",
        "Arithmetic Operators"
      ],
      "metadata": {
        "id": "gA_UzeTTYRIf"
      }
    },
    {
      "cell_type": "code",
      "source": [
        "num_1 = 20\n",
        "num_2 = 10\n",
        "\n",
        "# addition\n",
        "sum = num_1 + num_2\n",
        "print('sum = ',sum)\n",
        "\n",
        "# subtraction\n",
        "diff = num_1 - num_2\n",
        "print('difference = ',diff)\n",
        "\n",
        "# multiplication\n",
        "pro = num_1 * num_2\n",
        "print('product = ',pro)\n",
        "\n",
        "# division\n",
        "quo = num_1 / num_2\n",
        "print('quotient = ',quo)\n",
        "\n",
        "# exponent\n",
        "exp = num_1**num_2   # 20^10\n",
        "print('exponent = ',exp)\n",
        "\n",
        "# modulus\n",
        "mod = num_1 % num_2\n",
        "print('reminder = ',mod)"
      ],
      "metadata": {
        "colab": {
          "base_uri": "https://localhost:8080/"
        },
        "id": "hNFl8ufYYUNs",
        "outputId": "2413bb73-c783-4f9a-989d-a567fd3ef7e3"
      },
      "execution_count": 1,
      "outputs": [
        {
          "output_type": "stream",
          "name": "stdout",
          "text": [
            "sum =  30\n",
            "difference =  10\n",
            "product =  200\n",
            "quotient =  2.0\n",
            "exponent =  10240000000000\n",
            "reminder =  0\n"
          ]
        }
      ]
    },
    {
      "cell_type": "code",
      "source": [
        "a = 5\n",
        "print(a)\n",
        ""
      ],
      "metadata": {
        "colab": {
          "base_uri": "https://localhost:8080/"
        },
        "id": "SiRh9yHwYZoK",
        "outputId": "f97aea0c-d90a-4c54-e150-3cee77073438"
      },
      "execution_count": 2,
      "outputs": [
        {
          "output_type": "stream",
          "name": "stdout",
          "text": [
            "5\n"
          ]
        }
      ]
    },
    {
      "cell_type": "code",
      "source": [
        "a = 5\n",
        "a += 5   # a = a + 5\n",
        "print(a)\n",
        ""
      ],
      "metadata": {
        "colab": {
          "base_uri": "https://localhost:8080/"
        },
        "id": "xYNC0nf9YddH",
        "outputId": "0e9ccce3-4ce2-4c21-ba8d-4ec1a79146b5"
      },
      "execution_count": 3,
      "outputs": [
        {
          "output_type": "stream",
          "name": "stdout",
          "text": [
            "10\n"
          ]
        }
      ]
    },
    {
      "cell_type": "code",
      "source": [
        "\n",
        "b = 5\n",
        "b -= 2   # b = b-2\n",
        "print(b)"
      ],
      "metadata": {
        "colab": {
          "base_uri": "https://localhost:8080/"
        },
        "id": "NlBYBQYfYfwK",
        "outputId": "27daf436-4f87-4971-b824-6a93d434debd"
      },
      "execution_count": 4,
      "outputs": [
        {
          "output_type": "stream",
          "name": "stdout",
          "text": [
            "3\n"
          ]
        }
      ]
    },
    {
      "cell_type": "markdown",
      "source": [
        "Comparison Operators"
      ],
      "metadata": {
        "id": "k1sjs9EbYmAZ"
      }
    },
    {
      "cell_type": "markdown",
      "source": [],
      "metadata": {
        "id": "tp_bdaoyYl-B"
      }
    },
    {
      "cell_type": "code",
      "source": [
        "\n",
        "a = 5\n",
        "b = 10\n",
        "\n",
        "print(a == b)   # equal to\n",
        "print(a != b)   # not equal to\n",
        "print(a > b)    # greater than\n",
        "print(a < b)\n",
        "print(a <= b)\n",
        "print(a >= b)"
      ],
      "metadata": {
        "colab": {
          "base_uri": "https://localhost:8080/"
        },
        "id": "osLTW0azYiPc",
        "outputId": "1196562b-022e-41de-8238-06127e18ef92"
      },
      "execution_count": 5,
      "outputs": [
        {
          "output_type": "stream",
          "name": "stdout",
          "text": [
            "False\n",
            "True\n",
            "False\n",
            "True\n",
            "True\n",
            "False\n"
          ]
        }
      ]
    },
    {
      "cell_type": "markdown",
      "source": [
        "Logical Operators\n",
        "and\n",
        "\n",
        "or\n",
        "\n",
        "not"
      ],
      "metadata": {
        "id": "kXvSA7mLYt2k"
      }
    },
    {
      "cell_type": "code",
      "source": [
        "a = 10\n",
        "\n",
        "print( a>20 and a>5)\n",
        "print( a>20 or a>5)\n",
        "print( not( a>8 and a>5))"
      ],
      "metadata": {
        "colab": {
          "base_uri": "https://localhost:8080/"
        },
        "id": "upV5UuO-Yqej",
        "outputId": "6b9f424a-6e35-42cd-839f-f0acf89e1442"
      },
      "execution_count": 6,
      "outputs": [
        {
          "output_type": "stream",
          "name": "stdout",
          "text": [
            "False\n",
            "True\n",
            "False\n"
          ]
        }
      ]
    },
    {
      "cell_type": "markdown",
      "source": [
        "Identity Operator:\n",
        "is\n",
        "\n",
        "is not"
      ],
      "metadata": {
        "id": "aQp59F9CY2fa"
      }
    },
    {
      "cell_type": "code",
      "source": [
        "\n",
        "x = 5\n",
        "y = 5\n",
        "\n",
        "print(x is y)\n",
        ""
      ],
      "metadata": {
        "colab": {
          "base_uri": "https://localhost:8080/"
        },
        "id": "uYOGw-MBYxIV",
        "outputId": "660e934e-7a8d-4bd9-d942-8dcb962e0706"
      },
      "execution_count": 7,
      "outputs": [
        {
          "output_type": "stream",
          "name": "stdout",
          "text": [
            "True\n"
          ]
        }
      ]
    },
    {
      "cell_type": "code",
      "source": [
        "x = 5\n",
        "y = 10\n",
        "\n",
        "print(x is y)"
      ],
      "metadata": {
        "colab": {
          "base_uri": "https://localhost:8080/"
        },
        "id": "90rUn_ZTY6sq",
        "outputId": "73dc17f3-28b4-4d09-fb82-a5a725854154"
      },
      "execution_count": 8,
      "outputs": [
        {
          "output_type": "stream",
          "name": "stdout",
          "text": [
            "False\n"
          ]
        }
      ]
    },
    {
      "cell_type": "code",
      "source": [
        "x = 5\n",
        "y = 5\n",
        "\n",
        "print(x is not y)\n",
        ""
      ],
      "metadata": {
        "colab": {
          "base_uri": "https://localhost:8080/"
        },
        "id": "2TSasCeoY88l",
        "outputId": "46c6a0dd-e910-4d1c-ab66-3af806b7c31d"
      },
      "execution_count": 9,
      "outputs": [
        {
          "output_type": "stream",
          "name": "stdout",
          "text": [
            "False\n"
          ]
        }
      ]
    },
    {
      "cell_type": "code",
      "source": [
        "\n",
        "x = 5\n",
        "y = 10\n",
        "\n",
        "print(x is not y)"
      ],
      "metadata": {
        "colab": {
          "base_uri": "https://localhost:8080/"
        },
        "id": "g17bJomIY_RD",
        "outputId": "e18f0a83-1d50-4c2c-c416-62a4459eaf07"
      },
      "execution_count": 10,
      "outputs": [
        {
          "output_type": "stream",
          "name": "stdout",
          "text": [
            "True\n"
          ]
        }
      ]
    },
    {
      "cell_type": "markdown",
      "source": [
        "Membership Operator:\n",
        "in\n",
        "\n",
        "not in"
      ],
      "metadata": {
        "id": "tPQXlPBtZEd5"
      }
    },
    {
      "cell_type": "code",
      "source": [
        "a = 5\n",
        "b =10\n",
        "\n",
        "c = [1,2,3,4,5]\n",
        "print( a in c)\n",
        "print( b in c)"
      ],
      "metadata": {
        "colab": {
          "base_uri": "https://localhost:8080/"
        },
        "id": "18pGzBwUZB_o",
        "outputId": "44c0069e-eeee-41bc-c4f9-37d6bacc6023"
      },
      "execution_count": 11,
      "outputs": [
        {
          "output_type": "stream",
          "name": "stdout",
          "text": [
            "True\n",
            "False\n"
          ]
        }
      ]
    },
    {
      "cell_type": "code",
      "source": [
        "\n",
        "a = 5\n",
        "b =10\n",
        "\n",
        "c = [1,2,3,4,5]\n",
        "print( a not in c)\n",
        "print( b not in c)"
      ],
      "metadata": {
        "colab": {
          "base_uri": "https://localhost:8080/"
        },
        "id": "9I33oobiZHnl",
        "outputId": "eb84d46d-eb95-4406-9612-41a9b2c1423b"
      },
      "execution_count": 12,
      "outputs": [
        {
          "output_type": "stream",
          "name": "stdout",
          "text": [
            "False\n",
            "True\n"
          ]
        }
      ]
    },
    {
      "cell_type": "code",
      "source": [],
      "metadata": {
        "id": "CZFS35WbZKMc"
      },
      "execution_count": null,
      "outputs": []
    }
  ]
}